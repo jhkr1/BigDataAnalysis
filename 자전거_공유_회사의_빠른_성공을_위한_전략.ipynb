{
  "nbformat": 4,
  "nbformat_minor": 0,
  "metadata": {
    "colab": {
      "provenance": [],
      "mount_file_id": "1b8tFKaiL0RDrvBTbqqJIazlwSY4Ps_HA",
      "authorship_tag": "ABX9TyMWTF+jpaWshZNGjG+MlH1F",
      "include_colab_link": true
    },
    "kernelspec": {
      "name": "python3",
      "display_name": "Python 3"
    },
    "language_info": {
      "name": "python"
    }
  },
  "cells": [
    {
      "cell_type": "markdown",
      "metadata": {
        "id": "view-in-github",
        "colab_type": "text"
      },
      "source": [
        "<a href=\"https://colab.research.google.com/github/jhkr1/BigDataAnalysis/blob/main/%EC%9E%90%EC%A0%84%EA%B1%B0_%EA%B3%B5%EC%9C%A0_%ED%9A%8C%EC%82%AC%EC%9D%98_%EB%B9%A0%EB%A5%B8_%EC%84%B1%EA%B3%B5%EC%9D%84_%EC%9C%84%ED%95%9C_%EC%A0%84%EB%9E%B5.ipynb\" target=\"_parent\"><img src=\"https://colab.research.google.com/assets/colab-badge.svg\" alt=\"Open In Colab\"/></a>"
      ]
    },
    {
      "cell_type": "markdown",
      "source": [
        "# 자전거 공유 회사의 빠른 성공을 위한 전략_구글 코세라 캡스톤"
      ],
      "metadata": {
        "id": "35A_3WsbWBKy"
      }
    },
    {
      "cell_type": "markdown",
      "source": [
        "## 필요한 라이브러리 불러오기"
      ],
      "metadata": {
        "id": "aaf5DOcWVwPu"
      }
    },
    {
      "cell_type": "code",
      "source": [
        "import pandas as pd\n",
        "import numpy as np\n",
        "import matplotlib.pyplot as plt\n",
        "import seaborn as sns\n",
        "from google.colab import drive\n",
        "drive.mount('/content/drive')"
      ],
      "metadata": {
        "colab": {
          "base_uri": "https://localhost:8080/"
        },
        "id": "fWG1kGVsI76C",
        "outputId": "cc853b37-76ee-4583-c69c-e85053870980"
      },
      "execution_count": 1,
      "outputs": [
        {
          "output_type": "stream",
          "name": "stdout",
          "text": [
            "Drive already mounted at /content/drive; to attempt to forcibly remount, call drive.mount(\"/content/drive\", force_remount=True).\n"
          ]
        }
      ]
    },
    {
      "cell_type": "markdown",
      "source": [
        "## 데이터 가져오기"
      ],
      "metadata": {
        "id": "6yx9DEMiV40a"
      }
    },
    {
      "cell_type": "code",
      "execution_count": 2,
      "metadata": {
        "id": "cdeyzXci_G0L"
      },
      "outputs": [],
      "source": [
        "# df1 = pd.read_csv(\"/content/drive/MyDrive/Coursera_Google_Capstone/202401-divvy-tripdata.csv\")\n",
        "# df2 = pd.read_csv(\"/content/drive/MyDrive/Coursera_Google_Capstone/202402-divvy-tripdata.csv\")\n",
        "# df3 = pd.read_csv('/content/drive/MyDrive/Coursera_Google_Capstone/202403-divvy-tripdata.csv')\n",
        "# df4 = pd.read_csv('/content/drive/MyDrive/Coursera_Google_Capstone/202404-divvy-tripdata.csv')\n",
        "# df5 = pd.read_csv('/content/drive/MyDrive/Coursera_Google_Capstone/202405-divvy-tripdata.csv')\n",
        "# df6 = pd.read_csv('/content/drive/MyDrive/Coursera_Google_Capstone/202406-divvy-tripdata.csv')\n",
        "# df7 = pd.read_csv('/content/drive/MyDrive/Coursera_Google_Capstone/202407-divvy-tripdata.csv')\n",
        "# df8 = pd.read_csv('/content/drive/MyDrive/Coursera_Google_Capstone/202408-divvy-tripdata.csv')\n",
        "# df9 = pd.read_csv('/content/drive/MyDrive/Coursera_Google_Capstone/202409-divvy-tripdata.csv')\n",
        "# df10 = pd.read_csv('/content/drive/MyDrive/Coursera_Google_Capstone/202410-divvy-tripdata.csv')\n",
        "# df11 = pd.read_csv('/content/drive/MyDrive/Coursera_Google_Capstone/202411-divvy-tripdata.csv')\n"
      ]
    },
    {
      "cell_type": "markdown",
      "source": [
        "## 2024년 1월부터 11월까지 데이터 하나로 연결하기"
      ],
      "metadata": {
        "id": "MKsh967AWLVE"
      }
    },
    {
      "cell_type": "code",
      "source": [
        "df = pd.concat([df1, df2,df3, df4, df5, df6, df7, df8, df9, df10, df11])\n",
        "df.head()"
      ],
      "metadata": {
        "colab": {
          "base_uri": "https://localhost:8080/",
          "height": 216
        },
        "id": "gcc8MmlBEpeb",
        "outputId": "c8384462-32cf-4551-b410-b209f92acdd0"
      },
      "execution_count": 7,
      "outputs": [
        {
          "output_type": "error",
          "ename": "NameError",
          "evalue": "name 'df1' is not defined",
          "traceback": [
            "\u001b[0;31m---------------------------------------------------------------------------\u001b[0m",
            "\u001b[0;31mNameError\u001b[0m                                 Traceback (most recent call last)",
            "\u001b[0;32m<ipython-input-7-7f8668147d29>\u001b[0m in \u001b[0;36m<cell line: 1>\u001b[0;34m()\u001b[0m\n\u001b[0;32m----> 1\u001b[0;31m \u001b[0mdf\u001b[0m \u001b[0;34m=\u001b[0m \u001b[0mpd\u001b[0m\u001b[0;34m.\u001b[0m\u001b[0mconcat\u001b[0m\u001b[0;34m(\u001b[0m\u001b[0;34m[\u001b[0m\u001b[0mdf1\u001b[0m\u001b[0;34m,\u001b[0m \u001b[0mdf2\u001b[0m\u001b[0;34m,\u001b[0m\u001b[0mdf3\u001b[0m\u001b[0;34m,\u001b[0m \u001b[0mdf4\u001b[0m\u001b[0;34m,\u001b[0m \u001b[0mdf5\u001b[0m\u001b[0;34m,\u001b[0m \u001b[0mdf6\u001b[0m\u001b[0;34m,\u001b[0m \u001b[0mdf7\u001b[0m\u001b[0;34m,\u001b[0m \u001b[0mdf8\u001b[0m\u001b[0;34m,\u001b[0m \u001b[0mdf9\u001b[0m\u001b[0;34m,\u001b[0m \u001b[0mdf10\u001b[0m\u001b[0;34m,\u001b[0m \u001b[0mdf11\u001b[0m\u001b[0;34m]\u001b[0m\u001b[0;34m)\u001b[0m\u001b[0;34m\u001b[0m\u001b[0;34m\u001b[0m\u001b[0m\n\u001b[0m\u001b[1;32m      2\u001b[0m \u001b[0mdf\u001b[0m\u001b[0;34m.\u001b[0m\u001b[0mhead\u001b[0m\u001b[0;34m(\u001b[0m\u001b[0;34m)\u001b[0m\u001b[0;34m\u001b[0m\u001b[0;34m\u001b[0m\u001b[0m\n",
            "\u001b[0;31mNameError\u001b[0m: name 'df1' is not defined"
          ]
        }
      ]
    },
    {
      "cell_type": "markdown",
      "source": [
        "## 데이터 탐색하기"
      ],
      "metadata": {
        "id": "I7_EqGClWabt"
      }
    },
    {
      "cell_type": "code",
      "source": [
        "# df.info() # 데이터 타입 확인\n",
        "\n",
        "# df.describe() # 기본 통계 요약\n",
        "\n",
        "# df.isna().sum() # 열별 결측치 확인 -> 결측치가 존재한다.\n",
        "\n",
        "# df.duplicated().sum() # 중복된 데이터 확인 -> 중복된 데이터가 존재하지 않는다."
      ],
      "metadata": {
        "colab": {
          "base_uri": "https://localhost:8080/"
        },
        "id": "ULpk61xMEpoU",
        "outputId": "f439d43d-29e4-4955-c97d-0e718f223907"
      },
      "execution_count": 8,
      "outputs": [
        {
          "output_type": "stream",
          "name": "stdout",
          "text": [
            "member_casual\n",
            "member    64.473846\n",
            "casual    35.526154\n",
            "Name: proportion, dtype: float64\n"
          ]
        }
      ]
    },
    {
      "cell_type": "markdown",
      "source": [
        "## df['started_at'], df['ended_at']의 타입 변경(object -> datetime)"
      ],
      "metadata": {
        "id": "S99S83dRWYAE"
      }
    },
    {
      "cell_type": "code",
      "source": [
        "# 밀리초 또는 추가 정보 제거\n",
        "df['started_at'] = df['started_at'].str.split('.', expand=True)[0]\n",
        "df['ended_at'] = df['ended_at'].str.split('.', expand=True)[0]\n",
        "\n",
        "# 이제 to_datetime 사용\n",
        "# errors='coerce' -> 변환 과정에서 오류가 발생할 경우, 에러를 발생시키지 않고 NaT으로 처리\n",
        "df['started_at'] = pd.to_datetime(df['started_at'], errors='coerce')\n",
        "df['ended_at'] = pd.to_datetime(df['ended_at'], errors='coerce')"
      ],
      "metadata": {
        "colab": {
          "base_uri": "https://localhost:8080/",
          "height": 704
        },
        "id": "CtRk7lrDEpq6",
        "outputId": "2f8127e8-01fe-4fca-b94a-8162607f2fa1"
      },
      "execution_count": 9,
      "outputs": [
        {
          "output_type": "error",
          "ename": "KeyError",
          "evalue": "'started_at'",
          "traceback": [
            "\u001b[0;31m---------------------------------------------------------------------------\u001b[0m",
            "\u001b[0;31mKeyError\u001b[0m                                  Traceback (most recent call last)",
            "\u001b[0;32m/usr/local/lib/python3.10/dist-packages/pandas/core/indexes/base.py\u001b[0m in \u001b[0;36mget_loc\u001b[0;34m(self, key)\u001b[0m\n\u001b[1;32m   3804\u001b[0m         \u001b[0;32mtry\u001b[0m\u001b[0;34m:\u001b[0m\u001b[0;34m\u001b[0m\u001b[0;34m\u001b[0m\u001b[0m\n\u001b[0;32m-> 3805\u001b[0;31m             \u001b[0;32mreturn\u001b[0m \u001b[0mself\u001b[0m\u001b[0;34m.\u001b[0m\u001b[0m_engine\u001b[0m\u001b[0;34m.\u001b[0m\u001b[0mget_loc\u001b[0m\u001b[0;34m(\u001b[0m\u001b[0mcasted_key\u001b[0m\u001b[0;34m)\u001b[0m\u001b[0;34m\u001b[0m\u001b[0;34m\u001b[0m\u001b[0m\n\u001b[0m\u001b[1;32m   3806\u001b[0m         \u001b[0;32mexcept\u001b[0m \u001b[0mKeyError\u001b[0m \u001b[0;32mas\u001b[0m \u001b[0merr\u001b[0m\u001b[0;34m:\u001b[0m\u001b[0;34m\u001b[0m\u001b[0;34m\u001b[0m\u001b[0m\n",
            "\u001b[0;32mindex.pyx\u001b[0m in \u001b[0;36mpandas._libs.index.IndexEngine.get_loc\u001b[0;34m()\u001b[0m\n",
            "\u001b[0;32mindex.pyx\u001b[0m in \u001b[0;36mpandas._libs.index.IndexEngine.get_loc\u001b[0;34m()\u001b[0m\n",
            "\u001b[0;32mpandas/_libs/hashtable_class_helper.pxi\u001b[0m in \u001b[0;36mpandas._libs.hashtable.PyObjectHashTable.get_item\u001b[0;34m()\u001b[0m\n",
            "\u001b[0;32mpandas/_libs/hashtable_class_helper.pxi\u001b[0m in \u001b[0;36mpandas._libs.hashtable.PyObjectHashTable.get_item\u001b[0;34m()\u001b[0m\n",
            "\u001b[0;31mKeyError\u001b[0m: 'started_at'",
            "\nThe above exception was the direct cause of the following exception:\n",
            "\u001b[0;31mKeyError\u001b[0m                                  Traceback (most recent call last)",
            "\u001b[0;32m<ipython-input-9-7deeb48b72ac>\u001b[0m in \u001b[0;36m<cell line: 2>\u001b[0;34m()\u001b[0m\n\u001b[1;32m      1\u001b[0m \u001b[0;31m# 밀리초 또는 추가 정보 제거\u001b[0m\u001b[0;34m\u001b[0m\u001b[0;34m\u001b[0m\u001b[0m\n\u001b[0;32m----> 2\u001b[0;31m \u001b[0mdf\u001b[0m\u001b[0;34m[\u001b[0m\u001b[0;34m'started_at'\u001b[0m\u001b[0;34m]\u001b[0m \u001b[0;34m=\u001b[0m \u001b[0mdf\u001b[0m\u001b[0;34m[\u001b[0m\u001b[0;34m'started_at'\u001b[0m\u001b[0;34m]\u001b[0m\u001b[0;34m.\u001b[0m\u001b[0mstr\u001b[0m\u001b[0;34m.\u001b[0m\u001b[0msplit\u001b[0m\u001b[0;34m(\u001b[0m\u001b[0;34m'.'\u001b[0m\u001b[0;34m,\u001b[0m \u001b[0mexpand\u001b[0m\u001b[0;34m=\u001b[0m\u001b[0;32mTrue\u001b[0m\u001b[0;34m)\u001b[0m\u001b[0;34m[\u001b[0m\u001b[0;36m0\u001b[0m\u001b[0;34m]\u001b[0m\u001b[0;34m\u001b[0m\u001b[0;34m\u001b[0m\u001b[0m\n\u001b[0m\u001b[1;32m      3\u001b[0m \u001b[0mdf\u001b[0m\u001b[0;34m[\u001b[0m\u001b[0;34m'ended_at'\u001b[0m\u001b[0;34m]\u001b[0m \u001b[0;34m=\u001b[0m \u001b[0mdf\u001b[0m\u001b[0;34m[\u001b[0m\u001b[0;34m'ended_at'\u001b[0m\u001b[0;34m]\u001b[0m\u001b[0;34m.\u001b[0m\u001b[0mstr\u001b[0m\u001b[0;34m.\u001b[0m\u001b[0msplit\u001b[0m\u001b[0;34m(\u001b[0m\u001b[0;34m'.'\u001b[0m\u001b[0;34m,\u001b[0m \u001b[0mexpand\u001b[0m\u001b[0;34m=\u001b[0m\u001b[0;32mTrue\u001b[0m\u001b[0;34m)\u001b[0m\u001b[0;34m[\u001b[0m\u001b[0;36m0\u001b[0m\u001b[0;34m]\u001b[0m\u001b[0;34m\u001b[0m\u001b[0;34m\u001b[0m\u001b[0m\n\u001b[1;32m      4\u001b[0m \u001b[0;34m\u001b[0m\u001b[0m\n\u001b[1;32m      5\u001b[0m \u001b[0;31m# 이제 to_datetime 사용\u001b[0m\u001b[0;34m\u001b[0m\u001b[0;34m\u001b[0m\u001b[0m\n",
            "\u001b[0;32m/usr/local/lib/python3.10/dist-packages/pandas/core/frame.py\u001b[0m in \u001b[0;36m__getitem__\u001b[0;34m(self, key)\u001b[0m\n\u001b[1;32m   4100\u001b[0m             \u001b[0;32mif\u001b[0m \u001b[0mself\u001b[0m\u001b[0;34m.\u001b[0m\u001b[0mcolumns\u001b[0m\u001b[0;34m.\u001b[0m\u001b[0mnlevels\u001b[0m \u001b[0;34m>\u001b[0m \u001b[0;36m1\u001b[0m\u001b[0;34m:\u001b[0m\u001b[0;34m\u001b[0m\u001b[0;34m\u001b[0m\u001b[0m\n\u001b[1;32m   4101\u001b[0m                 \u001b[0;32mreturn\u001b[0m \u001b[0mself\u001b[0m\u001b[0;34m.\u001b[0m\u001b[0m_getitem_multilevel\u001b[0m\u001b[0;34m(\u001b[0m\u001b[0mkey\u001b[0m\u001b[0;34m)\u001b[0m\u001b[0;34m\u001b[0m\u001b[0;34m\u001b[0m\u001b[0m\n\u001b[0;32m-> 4102\u001b[0;31m             \u001b[0mindexer\u001b[0m \u001b[0;34m=\u001b[0m \u001b[0mself\u001b[0m\u001b[0;34m.\u001b[0m\u001b[0mcolumns\u001b[0m\u001b[0;34m.\u001b[0m\u001b[0mget_loc\u001b[0m\u001b[0;34m(\u001b[0m\u001b[0mkey\u001b[0m\u001b[0;34m)\u001b[0m\u001b[0;34m\u001b[0m\u001b[0;34m\u001b[0m\u001b[0m\n\u001b[0m\u001b[1;32m   4103\u001b[0m             \u001b[0;32mif\u001b[0m \u001b[0mis_integer\u001b[0m\u001b[0;34m(\u001b[0m\u001b[0mindexer\u001b[0m\u001b[0;34m)\u001b[0m\u001b[0;34m:\u001b[0m\u001b[0;34m\u001b[0m\u001b[0;34m\u001b[0m\u001b[0m\n\u001b[1;32m   4104\u001b[0m                 \u001b[0mindexer\u001b[0m \u001b[0;34m=\u001b[0m \u001b[0;34m[\u001b[0m\u001b[0mindexer\u001b[0m\u001b[0;34m]\u001b[0m\u001b[0;34m\u001b[0m\u001b[0;34m\u001b[0m\u001b[0m\n",
            "\u001b[0;32m/usr/local/lib/python3.10/dist-packages/pandas/core/indexes/base.py\u001b[0m in \u001b[0;36mget_loc\u001b[0;34m(self, key)\u001b[0m\n\u001b[1;32m   3810\u001b[0m             ):\n\u001b[1;32m   3811\u001b[0m                 \u001b[0;32mraise\u001b[0m \u001b[0mInvalidIndexError\u001b[0m\u001b[0;34m(\u001b[0m\u001b[0mkey\u001b[0m\u001b[0;34m)\u001b[0m\u001b[0;34m\u001b[0m\u001b[0;34m\u001b[0m\u001b[0m\n\u001b[0;32m-> 3812\u001b[0;31m             \u001b[0;32mraise\u001b[0m \u001b[0mKeyError\u001b[0m\u001b[0;34m(\u001b[0m\u001b[0mkey\u001b[0m\u001b[0;34m)\u001b[0m \u001b[0;32mfrom\u001b[0m \u001b[0merr\u001b[0m\u001b[0;34m\u001b[0m\u001b[0;34m\u001b[0m\u001b[0m\n\u001b[0m\u001b[1;32m   3813\u001b[0m         \u001b[0;32mexcept\u001b[0m \u001b[0mTypeError\u001b[0m\u001b[0;34m:\u001b[0m\u001b[0;34m\u001b[0m\u001b[0;34m\u001b[0m\u001b[0m\n\u001b[1;32m   3814\u001b[0m             \u001b[0;31m# If we have a listlike key, _check_indexing_error will raise\u001b[0m\u001b[0;34m\u001b[0m\u001b[0;34m\u001b[0m\u001b[0m\n",
            "\u001b[0;31mKeyError\u001b[0m: 'started_at'"
          ]
        }
      ]
    },
    {
      "cell_type": "code",
      "source": [
        "df.info()"
      ],
      "metadata": {
        "colab": {
          "base_uri": "https://localhost:8080/"
        },
        "id": "-A6YXR7TTxbA",
        "outputId": "ef9aa93e-105a-49d9-8469-f9c5e524c98e"
      },
      "execution_count": 10,
      "outputs": [
        {
          "output_type": "stream",
          "name": "stdout",
          "text": [
            "<class 'pandas.core.frame.DataFrame'>\n",
            "RangeIndex: 2925000 entries, 0 to 2924999\n",
            "Data columns (total 4 columns):\n",
            " #   Column         Dtype \n",
            "---  ------         ----- \n",
            " 0   rideable_type  object\n",
            " 1   ride_length    object\n",
            " 2   day_of_week    object\n",
            " 3   member_casual  object\n",
            "dtypes: object(4)\n",
            "memory usage: 89.3+ MB\n"
          ]
        }
      ]
    },
    {
      "cell_type": "markdown",
      "source": [
        "## 데이터 프레임에 기존 정보를 이용한 새로운 열 추가하기."
      ],
      "metadata": {
        "id": "O3Sd346IWsLK"
      }
    },
    {
      "cell_type": "code",
      "source": [
        "# 각 주행의 시작 요일 구하기\n",
        "# datetime 형식 데이터에서 사용가능 -> .dt\n",
        "# day_name()은 각 날짜에 해당하는 요일을 문자열로 반환\n",
        "# 예: 2024-01-12 → \"Friday\"\n",
        "\n",
        "df['day_of_week'] = df['started_at'].dt.day_name()\n",
        "df['day_of_week'].head()"
      ],
      "metadata": {
        "id": "RRHnaN6ZT-QG"
      },
      "execution_count": null,
      "outputs": []
    },
    {
      "cell_type": "code",
      "source": [
        "# 주행 시간 구하기\n",
        "df['ride_length'] = df['ended_at'] - df['started_at']\n",
        "df['ride_length'].head()"
      ],
      "metadata": {
        "id": "xw_NVFMQEpxb"
      },
      "execution_count": null,
      "outputs": []
    },
    {
      "cell_type": "markdown",
      "source": [
        "## 데이터 프레임 재구성 하기"
      ],
      "metadata": {
        "id": "v89nvqP1W_Eg"
      }
    },
    {
      "cell_type": "code",
      "source": [
        "# 우리가 사용할 컬럼(rideable_type, ride_length, member_casual)\n",
        "df = df[['rideable_type', 'ride_length', 'day_of_week','member_casual']]\n",
        "# df.isna().sum() # 결측치 X"
      ],
      "metadata": {
        "id": "s1DuzoVnEpzg"
      },
      "execution_count": null,
      "outputs": []
    },
    {
      "cell_type": "code",
      "source": [
        "df.head()"
      ],
      "metadata": {
        "id": "yuOwkcQCEp12"
      },
      "execution_count": null,
      "outputs": []
    },
    {
      "cell_type": "code",
      "source": [
        "df['day_of_week'].value_counts(normalize=True) * 100"
      ],
      "metadata": {
        "id": "e2QQBYIzEp4M"
      },
      "execution_count": null,
      "outputs": []
    },
    {
      "cell_type": "markdown",
      "source": [
        "## 재구성한 데이터프레임 저장하기"
      ],
      "metadata": {
        "id": "zpz3xTPSXCsk"
      }
    },
    {
      "cell_type": "code",
      "source": [
        "df.to_csv('divvy_tripdata.csv', index=False)"
      ],
      "metadata": {
        "id": "6VT_rqF0Upt4"
      },
      "execution_count": null,
      "outputs": []
    },
    {
      "cell_type": "code",
      "source": [
        "df = pd.read_csv('/content/drive/MyDrive/Coursera_Google_Capstone/2024-divvy-tripdata.csv')"
      ],
      "metadata": {
        "id": "JFcsBfVdCFQR"
      },
      "execution_count": 11,
      "outputs": []
    },
    {
      "cell_type": "code",
      "source": [
        "df.info()"
      ],
      "metadata": {
        "colab": {
          "base_uri": "https://localhost:8080/"
        },
        "id": "uV10AWp3Co0B",
        "outputId": "51b0d151-4a35-4d2f-d97b-2fbf51b3516f"
      },
      "execution_count": 12,
      "outputs": [
        {
          "output_type": "stream",
          "name": "stdout",
          "text": [
            "<class 'pandas.core.frame.DataFrame'>\n",
            "RangeIndex: 2925000 entries, 0 to 2924999\n",
            "Data columns (total 4 columns):\n",
            " #   Column         Dtype \n",
            "---  ------         ----- \n",
            " 0   rideable_type  object\n",
            " 1   ride_length    object\n",
            " 2   day_of_week    object\n",
            " 3   member_casual  object\n",
            "dtypes: object(4)\n",
            "memory usage: 89.3+ MB\n"
          ]
        }
      ]
    },
    {
      "cell_type": "code",
      "source": [
        "# 저장한 데이터 프레임의 ride_length가 object 타입이여서 timedelta로 변환\n",
        "df['ride_length'] = pd.to_timedelta(df['ride_length'])"
      ],
      "metadata": {
        "id": "-p7cl0l_Uov6"
      },
      "execution_count": 15,
      "outputs": []
    },
    {
      "cell_type": "code",
      "source": [
        "df['ride_length'].head()"
      ],
      "metadata": {
        "colab": {
          "base_uri": "https://localhost:8080/",
          "height": 241
        },
        "id": "QPy_jD-TDw_o",
        "outputId": "540e48e1-0306-4622-da7f-05a910dc7f64"
      },
      "execution_count": 17,
      "outputs": [
        {
          "output_type": "execute_result",
          "data": {
            "text/plain": [
              "0   0 days 00:07:32\n",
              "1   0 days 00:07:13\n",
              "2   0 days 00:08:00\n",
              "3   0 days 00:29:49\n",
              "4   0 days 00:26:12\n",
              "Name: ride_length, dtype: timedelta64[ns]"
            ],
            "text/html": [
              "<div>\n",
              "<style scoped>\n",
              "    .dataframe tbody tr th:only-of-type {\n",
              "        vertical-align: middle;\n",
              "    }\n",
              "\n",
              "    .dataframe tbody tr th {\n",
              "        vertical-align: top;\n",
              "    }\n",
              "\n",
              "    .dataframe thead th {\n",
              "        text-align: right;\n",
              "    }\n",
              "</style>\n",
              "<table border=\"1\" class=\"dataframe\">\n",
              "  <thead>\n",
              "    <tr style=\"text-align: right;\">\n",
              "      <th></th>\n",
              "      <th>ride_length</th>\n",
              "    </tr>\n",
              "  </thead>\n",
              "  <tbody>\n",
              "    <tr>\n",
              "      <th>0</th>\n",
              "      <td>0 days 00:07:32</td>\n",
              "    </tr>\n",
              "    <tr>\n",
              "      <th>1</th>\n",
              "      <td>0 days 00:07:13</td>\n",
              "    </tr>\n",
              "    <tr>\n",
              "      <th>2</th>\n",
              "      <td>0 days 00:08:00</td>\n",
              "    </tr>\n",
              "    <tr>\n",
              "      <th>3</th>\n",
              "      <td>0 days 00:29:49</td>\n",
              "    </tr>\n",
              "    <tr>\n",
              "      <th>4</th>\n",
              "      <td>0 days 00:26:12</td>\n",
              "    </tr>\n",
              "  </tbody>\n",
              "</table>\n",
              "</div><br><label><b>dtype:</b> timedelta64[ns]</label>"
            ]
          },
          "metadata": {},
          "execution_count": 17
        }
      ]
    },
    {
      "cell_type": "markdown",
      "source": [
        "## 데이터 분석"
      ],
      "metadata": {
        "id": "9aGx0GG2Ellu"
      }
    },
    {
      "cell_type": "code",
      "source": [
        "# 주행 시작 날짜의 비율\n",
        "df['day_of_week'].value_counts(normalize=True) * 100\n",
        "\n",
        "\n",
        "# 연간 회원의 비율\n",
        "ratio = df['member_casual'].value_counts(normalize=True) * 100\n",
        "print(ratio) # 연간회원 64.47%, 일반 이용자 35.52%"
      ],
      "metadata": {
        "colab": {
          "base_uri": "https://localhost:8080/"
        },
        "id": "cNRyczC9DyWI",
        "outputId": "ab4ba643-f3db-40d5-8f29-35a70af4771c"
      },
      "execution_count": 20,
      "outputs": [
        {
          "output_type": "stream",
          "name": "stdout",
          "text": [
            "member_casual\n",
            "member    64.473846\n",
            "casual    35.526154\n",
            "Name: proportion, dtype: float64\n"
          ]
        }
      ]
    },
    {
      "cell_type": "code",
      "source": [
        "# 주행 시간 평균 -> 00:18:05.183608888\n",
        "df['ride_length'].mean()\n",
        "\n",
        "# 주행 시간 최댓값 -> 1 days 01:59:56\n",
        "df['ride_length'].max()\n",
        "\n",
        "# 주행 시작 날짜의 최빈값 -> Saturday\n",
        "df['day_of_week'].mode()"
      ],
      "metadata": {
        "colab": {
          "base_uri": "https://localhost:8080/"
        },
        "id": "Bh6Hf2JWENBV",
        "outputId": "8ecab1e8-e102-4215-d54a-ca04b45cfc82"
      },
      "execution_count": 25,
      "outputs": [
        {
          "output_type": "execute_result",
          "data": {
            "text/plain": [
              "Timedelta('0 days 00:18:05.183608888')"
            ]
          },
          "metadata": {},
          "execution_count": 25
        }
      ]
    },
    {
      "cell_type": "code",
      "source": [
        "# 연간 회원과 일반 이용자의 분리\n",
        "member_data = df[df['member_casual'] == 'member']\n",
        "casual_data = df[df['member_casual'] == 'casual']"
      ],
      "metadata": {
        "id": "robr2qTrFRv0"
      },
      "execution_count": 26,
      "outputs": []
    },
    {
      "cell_type": "code",
      "source": [
        "# 연간 회원의 평균 주행 시간 -> 00:13:12.840299385\n",
        "member_data['ride_length'].mean()\n",
        "\n",
        "# 일반 이용자의 평균 주행 시간 -> 00:26:55.736329079\n",
        "casual_data['ride_length'].mean()"
      ],
      "metadata": {
        "colab": {
          "base_uri": "https://localhost:8080/"
        },
        "id": "7-EQ3EAjF-CL",
        "outputId": "d998e6cb-3a5a-43df-f508-37758c932d26"
      },
      "execution_count": 29,
      "outputs": [
        {
          "output_type": "execute_result",
          "data": {
            "text/plain": [
              "Timedelta('0 days 00:26:55.736329079')"
            ]
          },
          "metadata": {},
          "execution_count": 29
        }
      ]
    },
    {
      "cell_type": "code",
      "source": [
        "# day_of_weak 별 ride_length의 평균\n",
        "df.groupby('day_of_week')['ride_length'].mean()\n"
      ],
      "metadata": {
        "colab": {
          "base_uri": "https://localhost:8080/",
          "height": 335
        },
        "id": "9ac8XvF6Gn2R",
        "outputId": "564b5708-6920-4dde-fcc7-2d9348ba524a"
      },
      "execution_count": 39,
      "outputs": [
        {
          "output_type": "execute_result",
          "data": {
            "text/plain": [
              "day_of_week\n",
              "Friday      5040 days 01:08:23\n",
              "Monday      4579 days 14:57:23\n",
              "Saturday    6971 days 15:25:22\n",
              "Sunday      6008 days 12:23:29\n",
              "Thursday    4579 days 14:08:00\n",
              "Tuesday     4490 days 02:42:41\n",
              "Wednesday   5068 days 10:55:38\n",
              "Name: ride_length, dtype: timedelta64[ns]"
            ],
            "text/html": [
              "<div>\n",
              "<style scoped>\n",
              "    .dataframe tbody tr th:only-of-type {\n",
              "        vertical-align: middle;\n",
              "    }\n",
              "\n",
              "    .dataframe tbody tr th {\n",
              "        vertical-align: top;\n",
              "    }\n",
              "\n",
              "    .dataframe thead th {\n",
              "        text-align: right;\n",
              "    }\n",
              "</style>\n",
              "<table border=\"1\" class=\"dataframe\">\n",
              "  <thead>\n",
              "    <tr style=\"text-align: right;\">\n",
              "      <th></th>\n",
              "      <th>ride_length</th>\n",
              "    </tr>\n",
              "    <tr>\n",
              "      <th>day_of_week</th>\n",
              "      <th></th>\n",
              "    </tr>\n",
              "  </thead>\n",
              "  <tbody>\n",
              "    <tr>\n",
              "      <th>Friday</th>\n",
              "      <td>5040 days 01:08:23</td>\n",
              "    </tr>\n",
              "    <tr>\n",
              "      <th>Monday</th>\n",
              "      <td>4579 days 14:57:23</td>\n",
              "    </tr>\n",
              "    <tr>\n",
              "      <th>Saturday</th>\n",
              "      <td>6971 days 15:25:22</td>\n",
              "    </tr>\n",
              "    <tr>\n",
              "      <th>Sunday</th>\n",
              "      <td>6008 days 12:23:29</td>\n",
              "    </tr>\n",
              "    <tr>\n",
              "      <th>Thursday</th>\n",
              "      <td>4579 days 14:08:00</td>\n",
              "    </tr>\n",
              "    <tr>\n",
              "      <th>Tuesday</th>\n",
              "      <td>4490 days 02:42:41</td>\n",
              "    </tr>\n",
              "    <tr>\n",
              "      <th>Wednesday</th>\n",
              "      <td>5068 days 10:55:38</td>\n",
              "    </tr>\n",
              "  </tbody>\n",
              "</table>\n",
              "</div><br><label><b>dtype:</b> timedelta64[ns]</label>"
            ]
          },
          "metadata": {},
          "execution_count": 39
        }
      ]
    },
    {
      "cell_type": "code",
      "source": [
        "# 자전거의 종류별 주행시간의 평균\n",
        "df.groupby('rideable_type')['ride_length'].mean()"
      ],
      "metadata": {
        "colab": {
          "base_uri": "https://localhost:8080/",
          "height": 178
        },
        "id": "RCeRayQuHIv_",
        "outputId": "2e5a49e0-ff94-4e0c-8881-b47a25cc068a"
      },
      "execution_count": 35,
      "outputs": [
        {
          "output_type": "execute_result",
          "data": {
            "text/plain": [
              "rideable_type\n",
              "classic_bike    0 days 00:23:48.440379360\n",
              "electric_bike   0 days 00:12:33.477586304\n",
              "Name: ride_length, dtype: timedelta64[ns]"
            ],
            "text/html": [
              "<div>\n",
              "<style scoped>\n",
              "    .dataframe tbody tr th:only-of-type {\n",
              "        vertical-align: middle;\n",
              "    }\n",
              "\n",
              "    .dataframe tbody tr th {\n",
              "        vertical-align: top;\n",
              "    }\n",
              "\n",
              "    .dataframe thead th {\n",
              "        text-align: right;\n",
              "    }\n",
              "</style>\n",
              "<table border=\"1\" class=\"dataframe\">\n",
              "  <thead>\n",
              "    <tr style=\"text-align: right;\">\n",
              "      <th></th>\n",
              "      <th>ride_length</th>\n",
              "    </tr>\n",
              "    <tr>\n",
              "      <th>rideable_type</th>\n",
              "      <th></th>\n",
              "    </tr>\n",
              "  </thead>\n",
              "  <tbody>\n",
              "    <tr>\n",
              "      <th>classic_bike</th>\n",
              "      <td>0 days 00:23:48.440379360</td>\n",
              "    </tr>\n",
              "    <tr>\n",
              "      <th>electric_bike</th>\n",
              "      <td>0 days 00:12:33.477586304</td>\n",
              "    </tr>\n",
              "  </tbody>\n",
              "</table>\n",
              "</div><br><label><b>dtype:</b> timedelta64[ns]</label>"
            ]
          },
          "metadata": {},
          "execution_count": 35
        }
      ]
    },
    {
      "cell_type": "markdown",
      "source": [
        "## 데이터 시각화"
      ],
      "metadata": {
        "id": "F--YgOv4LPa9"
      }
    },
    {
      "cell_type": "markdown",
      "source": [
        "### 1.주행 시작 요일 비율 - 막대 그래프"
      ],
      "metadata": {
        "id": "2xVXrYNAL5h_"
      }
    },
    {
      "cell_type": "code",
      "source": [
        "# 요일 순서 지정\n",
        "day_order = ['Monday', 'Tuesday', 'Wednesday', 'Thursday', 'Friday', 'Saturday', 'Sunday']\n",
        "\n",
        "# 요일 비율 시각화\n",
        "plt.figure(figsize=(10, 6))\n",
        "sns.barplot(x=df['day_of_week'].value_counts().index, y=df['day_of_week'].value_counts().values, order=day_order)\n",
        "plt.title(\"Percentage of Rides by Day of the Week\")\n",
        "plt.xlabel(\"Day of the Week\")\n",
        "plt.ylabel(\"Percentage(%)\")\n",
        "plt.show()"
      ],
      "metadata": {
        "colab": {
          "base_uri": "https://localhost:8080/",
          "height": 584
        },
        "id": "x3oVKepeHQnL",
        "outputId": "49194435-a5fe-416b-d6e3-b5cf61dece27"
      },
      "execution_count": 44,
      "outputs": [
        {
          "output_type": "display_data",
          "data": {
            "text/plain": [
              "<Figure size 1000x600 with 1 Axes>"
            ],
            "image/png": "[encoded data removed]"
          },
          "metadata": {}
        }
      ]
    },
    {
      "cell_type": "markdown",
      "source": [
        "### 2. 연간 회원과 일반 이용자의 비율 - 원형 그래프 (파이 차트)\n"
      ],
      "metadata": {
        "id": "HmziLy-WL6y_"
      }
    },
    {
      "cell_type": "code",
      "source": [
        "ratio = df['member_casual'].value_counts(normalize=True) * 100\n",
        "# 파이 차트\n",
        "plt.figure(figsize=(8, 8))\n",
        "plt.pie(ratio, labels=ratio.index, autopct='%1.1f%%', startangle=140, colors=['skyblue', 'orange'])\n",
        "plt.title(\"Percentage of Member vs Casual Riders\")\n",
        "plt.show()"
      ],
      "metadata": {
        "colab": {
          "base_uri": "https://localhost:8080/",
          "height": 667
        },
        "id": "AUiw-58nL8a4",
        "outputId": "185cd168-e8f6-4d91-8d1f-706470b53ef7"
      },
      "execution_count": 45,
      "outputs": [
        {
          "output_type": "display_data",
          "data": {
            "text/plain": [
              "<Figure size 800x800 with 1 Axes>"
            ],
            "image/png": "[encoded data removed]"
          },
          "metadata": {}
        }
      ]
    },
    {
      "cell_type": "markdown",
      "source": [
        "### 3. 회원 유형별 평균 주행 시간 - 막대 그래프"
      ],
      "metadata": {
        "id": "QoD_Ie8vMinq"
      }
    },
    {
      "cell_type": "code",
      "source": [
        "# 평균 주행 시간 비교\n",
        "# ride_length의 평균을 total_seconds()를 통해 초 단위로 변환 후 /60을 통해 분 단위로 변환\n",
        "avg_ride_length = [member_data['ride_length'].mean().total_seconds() / 60,\n",
        "                   casual_data['ride_length'].mean().total_seconds() / 60]\n",
        "labels = ['Member', 'Casual']\n",
        "\n",
        "# 시각화\n",
        "plt.figure(figsize=(8, 6))\n",
        "# palette='viridis' 색상 팔레트를 지정\n",
        "sns.barplot(x=labels, y=avg_ride_length, palette='viridis')\n",
        "plt.title(\"Average Ride Length by Membership Type\")\n",
        "plt.ylabel(\"Average Ride Length (minutes)\")\n",
        "plt.show()"
      ],
      "metadata": {
        "colab": {
          "base_uri": "https://localhost:8080/",
          "height": 654
        },
        "id": "qtXkT7aCMkk9",
        "outputId": "2b36d3f4-3534-4323-8c44-a53ece850e66"
      },
      "execution_count": 46,
      "outputs": [
        {
          "output_type": "stream",
          "name": "stderr",
          "text": [
            "<ipython-input-46-133078de427f>:8: FutureWarning: \n",
            "\n",
            "Passing `palette` without assigning `hue` is deprecated and will be removed in v0.14.0. Assign the `x` variable to `hue` and set `legend=False` for the same effect.\n",
            "\n",
            "  sns.barplot(x=labels, y=avg_ride_length, palette='viridis')\n"
          ]
        },
        {
          "output_type": "display_data",
          "data": {
            "text/plain": [
              "<Figure size 800x600 with 1 Axes>"
            ],
            "image/png": "[encoded data removed]"
          },
          "metadata": {}
        }
      ]
    },
    {
      "cell_type": "markdown",
      "source": [
        "### 4. 요일별 평균 주행 시간 - 막대 그래프\n"
      ],
      "metadata": {
        "id": "NWx_LdEfMt50"
      }
    },
    {
      "cell_type": "code",
      "source": [
        "# 요일별 평균 주행 시간 계산\n",
        "day_avg = df.groupby('day_of_week')['ride_length'].mean()\n",
        "day_avg_minutes = day_avg.dt.total_seconds() / 60  # 초를 분으로 변환\n",
        "\n",
        "# 시각화\n",
        "plt.figure(figsize=(10, 6))\n",
        "sns.barplot(x=day_avg_minutes.index, y=day_avg_minutes.values, order=day_order, palette='coolwarm')\n",
        "plt.title(\"Average Ride Length by Day of Week\")\n",
        "plt.ylabel(\"Average Ride Length (minutes)\")\n",
        "plt.xlabel(\"Day of Week\")\n",
        "plt.show()"
      ],
      "metadata": {
        "colab": {
          "base_uri": "https://localhost:8080/",
          "height": 535
        },
        "id": "y7h6j5lkMtn9",
        "outputId": "a10721e3-9240-4974-d277-7920f7add808"
      },
      "execution_count": 47,
      "outputs": [
        {
          "output_type": "stream",
          "name": "stderr",
          "text": [
            "<ipython-input-47-25666d1a35c4>:7: FutureWarning: \n",
            "\n",
            "Passing `palette` without assigning `hue` is deprecated and will be removed in v0.14.0. Assign the `x` variable to `hue` and set `legend=False` for the same effect.\n",
            "\n",
            "  sns.barplot(x=day_avg_minutes.index, y=day_avg_minutes.values, order=day_order, palette='coolwarm')\n"
          ]
        },
        {
          "output_type": "display_data",
          "data": {
            "text/plain": [
              "<Figure size 1000x600 with 1 Axes>"
            ],
            "image/png": "[encoded data removed]"
          },
          "metadata": {}
        }
      ]
    },
    {
      "cell_type": "markdown",
      "source": [
        "### 5. 자전거 종류별 평균 주행 시간 - 막대 그래프\n"
      ],
      "metadata": {
        "id": "fAamDDVwM2aF"
      }
    },
    {
      "cell_type": "code",
      "source": [
        "# 자전거 종류별 평균 주행 시간 계산\n",
        "ride_type_avg = df.groupby('rideable_type')['ride_length'].mean()\n",
        "ride_type_avg_minutes = ride_type_avg.dt.total_seconds() / 60\n",
        "\n",
        "# 시각화\n",
        "plt.figure(figsize=(8, 6))\n",
        "sns.barplot(x=ride_type_avg_minutes.index, y=ride_type_avg_minutes.values, palette='muted')\n",
        "plt.title(\"Average Ride Length by Rideable Type\")\n",
        "plt.ylabel(\"Average Ride Length (minutes)\")\n",
        "plt.xlabel(\"Rideable Type\")\n",
        "plt.show()"
      ],
      "metadata": {
        "colab": {
          "base_uri": "https://localhost:8080/",
          "height": 627
        },
        "id": "t9rwO8YjMtgS",
        "outputId": "404ccea6-0438-40b3-bedd-920f8635c7c9"
      },
      "execution_count": 48,
      "outputs": [
        {
          "output_type": "stream",
          "name": "stderr",
          "text": [
            "<ipython-input-48-209331436b57>:7: FutureWarning: \n",
            "\n",
            "Passing `palette` without assigning `hue` is deprecated and will be removed in v0.14.0. Assign the `x` variable to `hue` and set `legend=False` for the same effect.\n",
            "\n",
            "  sns.barplot(x=ride_type_avg_minutes.index, y=ride_type_avg_minutes.values, palette='muted')\n"
          ]
        },
        {
          "output_type": "display_data",
          "data": {
            "text/plain": [
              "<Figure size 800x600 with 1 Axes>"
            ],
            "image/png": "[encoded data removed]"
          },
          "metadata": {}
        }
      ]
    }
  ]
}